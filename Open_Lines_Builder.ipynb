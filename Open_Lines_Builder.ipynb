{
  "cells": [
    {
      "cell_type": "markdown",
      "metadata": {
        "id": "view-in-github",
        "colab_type": "text"
      },
      "source": [
        "<a href=\"https://colab.research.google.com/github/jbustost/pythontxt/blob/master/Open_Lines_Builder.ipynb\" target=\"_parent\"><img src=\"https://colab.research.google.com/assets/colab-badge.svg\" alt=\"Open In Colab\"/></a>"
      ]
    },
    {
      "cell_type": "markdown",
      "id": "c27faa64",
      "metadata": {
        "id": "c27faa64"
      },
      "source": [
        "### Scheduling Dashboard processing script\n",
        "This script processes <b>P01 OPEN DASHBOARD LINES</b> file that is sent to the team at midnight (EST) and 12:00 pm (EST). It creates a file that then can be added to the <b>Open lines DB</b>."
      ]
    },
    {
      "cell_type": "code",
      "execution_count": 5,
      "id": "25099864",
      "metadata": {
        "id": "25099864"
      },
      "outputs": [],
      "source": [
        "# import pandas dataframe library. Import glob to read the filenames that will change daily. Import shutil will allow\n",
        "# us to move files around.\n",
        "import pandas as pd\n",
        "import numpy as np\n",
        "import glob\n",
        "import shutil\n",
        "import datetime\n",
        "import time\n",
        "import ctypes\n",
        "import os\n",
        "# import win32api\n",
        "# from win32com.client import Dispatch\n",
        "from ipywidgets import IntProgress\n",
        "from IPython.display import display"
      ]
    },
    {
      "cell_type": "code",
      "execution_count": 6,
      "id": "9ebd80cd",
      "metadata": {
        "scrolled": false,
        "id": "9ebd80cd",
        "outputId": "94743f08-7836-46fe-b6c9-565038eea189",
        "colab": {
          "base_uri": "https://localhost:8080/",
          "height": 235
        }
      },
      "outputs": [
        {
          "output_type": "error",
          "ename": "IndexError",
          "evalue": "ignored",
          "traceback": [
            "\u001b[0;31m---------------------------------------------------------------------------\u001b[0m",
            "\u001b[0;31mIndexError\u001b[0m                                Traceback (most recent call last)",
            "\u001b[0;32m<ipython-input-6-647ec36679a3>\u001b[0m in \u001b[0;36m<module>\u001b[0;34m\u001b[0m\n\u001b[1;32m      5\u001b[0m \u001b[0;34m\u001b[0m\u001b[0m\n\u001b[1;32m      6\u001b[0m \u001b[0;31m# open and read the most recent file in the source folder\u001b[0m\u001b[0;34m\u001b[0m\u001b[0;34m\u001b[0m\u001b[0;34m\u001b[0m\u001b[0m\n\u001b[0;32m----> 7\u001b[0;31m \u001b[0msfile\u001b[0m \u001b[0;34m=\u001b[0m \u001b[0mglob\u001b[0m\u001b[0;34m.\u001b[0m\u001b[0mglob\u001b[0m\u001b[0;34m(\u001b[0m\u001b[0;34mf''\u001b[0m \u001b[0;34m+\u001b[0m \u001b[0mspath\u001b[0m \u001b[0;34m+\u001b[0m \u001b[0;34m'/2*CHG_REQ_OPEN_LINES.xls*'\u001b[0m\u001b[0;34m)\u001b[0m\u001b[0;34m[\u001b[0m\u001b[0;36m0\u001b[0m\u001b[0;34m]\u001b[0m \u001b[0;31m# [-1] the minus will search for the latest file in the folder\u001b[0m\u001b[0;34m\u001b[0m\u001b[0;34m\u001b[0m\u001b[0m\n\u001b[0m\u001b[1;32m      8\u001b[0m \u001b[0;34m\u001b[0m\u001b[0m\n\u001b[1;32m      9\u001b[0m \u001b[0mprint\u001b[0m\u001b[0;34m(\u001b[0m\u001b[0;34m'getting the source file from:'\u001b[0m\u001b[0;34m,\u001b[0m \u001b[0msfile\u001b[0m\u001b[0;34m)\u001b[0m\u001b[0;34m\u001b[0m\u001b[0;34m\u001b[0m\u001b[0m\n",
            "\u001b[0;31mIndexError\u001b[0m: list index out of range"
          ]
        }
      ],
      "source": [
        "# set the source and target paths.\n",
        "dpath = '/content/myRawData/sources/done'\n",
        "spath = '/content/myRawData/sources'\n",
        "tpath = '/content/myRawData'\n",
        "\n",
        "# open and read the most recent file in the source folder\n",
        "sfile = glob.glob(f'' + spath + '/2*CHG_REQ_OPEN_LINES.xls*')[0] # [-1] the minus will search for the latest file in the folder\n",
        "\n",
        "print('getting the source file from:', sfile)\n",
        "# create the variable that will change the field names the source file.\n",
        "fieldnames = ['chgReqIDx','so', 'ln', 'hl', 'material', 'descrip', 'plant', 'itemCat', 'schReqOwnr', 'mfgReqOwnr', 'customer', \n",
        "               'delvPri', 'createD', 'createT', 'complD', 'complT', 'chgReqCreateD', 'chgReqCreateT', 'chgReqCmplD', \n",
        "               'chgReqCmplT', 'createdBy', 'ofcRep', 'chgCurrMAD','soCurrMAD', 'reqMAD', 'apprMAD', 'chgCurrDelvD', \n",
        "               'reqDelvDate', 'apprDelvDate', 'currQty', 'urgent', 'escalation', 'inventoryM', 'engQuote', 'noAck',\n",
        "               'invCheck', 'ownership', 'oDlrReqDelvD', 'orderRsn']\n",
        "\n",
        "# read the excel source file\n",
        "openlines = pd.read_excel(sfile, keep_default_na = False)\n",
        "# change the field names\n",
        "openlines.columns = fieldnames\n",
        "\n",
        "# ask the user for the date of the file we are processing\n",
        "prcdate = input('Type in the date of the file you are processing: ')\n",
        "prcdate = datetime.datetime.strptime(prcdate,'%m/%d/%Y')\n",
        "\n",
        "prcat = input('Type \"S\" or \"M\" if the file you are processing is at the start of the day or mid-day: ')\n",
        "prcat = prcat.lower()\n",
        "\n",
        "#count the number of rows in the file before filtering out 'o'\n",
        "fsize = len(openlines)\n",
        "print ('Open lines file has',str(fsize),'rows before filter is applied')\n",
        "\n",
        "#filter out the all lines that ownership does not belong to Scheduling or Manufacturing\n",
        "openlines = openlines.loc[openlines['ownership'].isin(['S','M'])]\n",
        "\n",
        "#count the number of rows in the file after applying the filter\n",
        "fsize = len(openlines)\n",
        "print ('Open lines file has',str(fsize),'rows after filter was applied')\n",
        "\n",
        "# initiate the progress bar\n",
        "progress_bar = IntProgress(min = 0, max = fsize, description = 'PROGRESS') \n",
        "display(progress_bar) # display the bar\n",
        "\n",
        "# we add the calculated fields to the current dataframe\n",
        "for x, row in openlines.iterrows():\n",
        "    # clear the variables that we are going to use\n",
        "    owner = '' # Scheduling Owner\n",
        "    rqdlv = '' # requested delivery date\n",
        "    crdlv = '' # current delivery date\n",
        "    apdlv = '' # approved delivery date\n",
        "    crtDt = '' # create date\n",
        "    \n",
        "    apmad = ''\n",
        "    dayx = ''\n",
        "    wkds = ''\n",
        "    wkns = ''\n",
        "    networkingdays = ''\n",
        "    \n",
        "    # assign the values to the variables\n",
        "    owner = openlines.loc[x,'schReqOwnr']\n",
        "    \n",
        "    crtDt = datetime.datetime.strptime(openlines.loc[x,'createD'],'%m/%d/%Y')\n",
        "    \n",
        "    if openlines.loc[x,'reqDelvDate'] != '':\n",
        "        rqdlv = datetime.datetime.strptime(openlines.loc[x,'reqDelvDate'],'%m/%d/%Y')\n",
        "    else:\n",
        "        rqdlv= datetime.datetime.today()\n",
        "    \n",
        "    if openlines.loc[x,'chgCurrDelvD'] != '':\n",
        "        crdlv = datetime.datetime.strptime(openlines.loc[x,'chgCurrDelvD'],'%m/%d/%Y')\n",
        "    else:\n",
        "        crdlv = datetime.datetime(2100, 1, 1)\n",
        "    \n",
        "    if openlines.loc[x,'apprDelvDate'] != '':\n",
        "        apdlv = datetime.datetime.strptime(openlines.loc[x,'apprDelvDate'],'%m/%d/%Y')\n",
        "    else:\n",
        "        apdlv = datetime.datetime(2100, 1, 1)\n",
        "    \n",
        "    if openlines.loc[x,'apprMAD'] != '':\n",
        "        apmad = datetime.datetime.strptime(openlines.loc[x,'apprMAD'],'%m/%d/%Y')\n",
        "    else:\n",
        "        apmad = datetime.datetime(2100, 1, 1)\n",
        "    \n",
        "    # determine if the request has been claimed or not by a Scheduling Coordinator\n",
        "    openlines.at[x,'ownerCat'] = 'unclaimed' if owner == '' else 'claimed'\n",
        "    \n",
        "    # determine if the request is a move up or a move out\n",
        "    openlines.at[x,'orderCat'] = 'move up' if rqdlv <= crdlv else 'move out'\n",
        "    \n",
        "    #calculate aging days using numpy\n",
        "    networkingdays = np.busday_count(crtDt.date(), prcdate.date())\n",
        "    openlines.at[x,'agingDays'] = int(networkingdays)\n",
        "    \n",
        "    #material impacted\n",
        "    openlines['matImpacted'] = 'False'\n",
        "    \n",
        "    # determine if the request is a response or an open item\n",
        "    if apmad != '' :\n",
        "        openlines.at[x,'respOpen'] = 'responses' if apdlv != '' else 'open items'\n",
        "    else:\n",
        "        openlines.at[x,'respOpen'] = 'responses' if apdlv != '' else 'open items'\n",
        "    \n",
        "    progress_bar.value += 1\n",
        "    #time.sleep(.1)\n",
        "\n",
        "# add the last 2 columns\n",
        "openlines['dated'] = prcdate\n",
        "openlines['repCat'] = prcat\n",
        "openlines['lncount'] = 1\n",
        "\n",
        "# write the processed pandas dataframe to the target path and call a pop-up window to tell the user processing is done.\n",
        "openlines.to_excel(tpath + '/open_lines_daily.xlsx', sheet_name = 'data', index = False)\n",
        "\n",
        "# find the name of the file that was just processed\n",
        "fileX = os.path.basename(sfile)\n",
        "shutil.move(sfile,dpath + '/' + fileX)\n",
        "\n",
        "print('open_lines_daily report has been processed and is ready for your review.')"
      ]
    },
    {
      "cell_type": "code",
      "execution_count": null,
      "id": "c5f6e663",
      "metadata": {
        "id": "c5f6e663",
        "outputId": "c909d3e9-eaa0-4fdb-88c1-0fc9e5707292"
      },
      "outputs": [
        {
          "name": "stdout",
          "output_type": "stream",
          "text": [
            "source file has been removed.\n"
          ]
        }
      ],
      "source": [
        "\n",
        "# check if the file exists and if so, delete it.\n",
        "if os.path.exists(tpath + '/open_lines_daily.xlsx'):\n",
        "    os.remove(tpath + '/open_lines_daily.xlsx')\n",
        "    print('source file has been removed.')\n",
        "else:\n",
        "    print('file was not found')"
      ]
    },
    {
      "cell_type": "markdown",
      "id": "7c06c355",
      "metadata": {
        "id": "7c06c355"
      },
      "source": [
        "## Fill the Scheduling performance Access DB\n",
        "The following code is used to import and run the MS Access DB macros within it. The last lines of code will eliminate the open_lines_daily.xlsx file once the file has been processed in the DB."
      ]
    },
    {
      "cell_type": "code",
      "execution_count": null,
      "id": "ce840894",
      "metadata": {
        "id": "ce840894"
      },
      "outputs": [],
      "source": [
        "schedDB = 'OpenLines_DB.accdb'\n",
        "objAccess = Dispatch('Access.Application')\n",
        "objAccess.Visible = True\n",
        "objAccess.OpenCurrentDatabase(tpath + '/' +schedDB)\n",
        "objDB = objAccess.CurrentDb()\n"
      ]
    },
    {
      "cell_type": "code",
      "execution_count": null,
      "id": "fbafe0b0",
      "metadata": {
        "id": "fbafe0b0"
      },
      "outputs": [],
      "source": [
        "objDB.DoCmd.RunMacro(\"import_data\")"
      ]
    },
    {
      "cell_type": "code",
      "execution_count": null,
      "id": "ab9affd4",
      "metadata": {
        "id": "ab9affd4"
      },
      "outputs": [],
      "source": [
        "objAccess.DoCmd.RunMacro('process_data')"
      ]
    },
    {
      "cell_type": "code",
      "execution_count": null,
      "id": "9e7d4cbe",
      "metadata": {
        "id": "9e7d4cbe"
      },
      "outputs": [],
      "source": [
        "objAccess.Application.Quit()"
      ]
    },
    {
      "cell_type": "code",
      "execution_count": 4,
      "id": "5d3eef33",
      "metadata": {
        "id": "5d3eef33",
        "colab": {
          "base_uri": "https://localhost:8080/"
        },
        "outputId": "0e8d5325-6312-431e-bc7b-27c8533ff91b"
      },
      "outputs": [
        {
          "output_type": "stream",
          "name": "stdout",
          "text": [
            "Looking in indexes: https://pypi.org/simple, https://us-python.pkg.dev/colab-wheels/public/simple/\n",
            "\u001b[31mERROR: Could not find a version that satisfies the requirement pipywin32 (from versions: none)\u001b[0m\n",
            "\u001b[31mERROR: No matching distribution found for pipywin32\u001b[0m\n"
          ]
        }
      ],
      "source": [
        "!pip install pipywin32"
      ]
    },
    {
      "cell_type": "code",
      "execution_count": null,
      "id": "600315b8",
      "metadata": {
        "id": "600315b8"
      },
      "outputs": [],
      "source": []
    }
  ],
  "metadata": {
    "kernelspec": {
      "display_name": "Python 3 (ipykernel)",
      "language": "python",
      "name": "python3"
    },
    "language_info": {
      "codemirror_mode": {
        "name": "ipython",
        "version": 3
      },
      "file_extension": ".py",
      "mimetype": "text/x-python",
      "name": "python",
      "nbconvert_exporter": "python",
      "pygments_lexer": "ipython3",
      "version": "3.8.13"
    },
    "colab": {
      "provenance": [],
      "collapsed_sections": [],
      "include_colab_link": true
    }
  },
  "nbformat": 4,
  "nbformat_minor": 5
}